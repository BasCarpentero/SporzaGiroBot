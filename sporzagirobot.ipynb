{
 "cells": [
  {
   "cell_type": "code",
   "execution_count": 1,
   "id": "9dbff099",
   "metadata": {
    "execution": {
     "iopub.execute_input": "2024-04-24T14:19:23.270956Z",
     "iopub.status.busy": "2024-04-24T14:19:23.270414Z",
     "iopub.status.idle": "2024-04-24T14:19:28.792467Z",
     "shell.execute_reply": "2024-04-24T14:19:28.791113Z"
    },
    "papermill": {
     "duration": 5.534118,
     "end_time": "2024-04-24T14:19:28.795355",
     "exception": false,
     "start_time": "2024-04-24T14:19:23.261237",
     "status": "completed"
    },
    "tags": []
   },
   "outputs": [],
   "source": [
    "from sklearn.model_selection import train_test_split\n",
    "from sklearn.ensemble import RandomForestRegressor\n",
    "from sklearn.linear_model import LinearRegression\n",
    "from sklearn.neighbors import KNeighborsRegressor\n",
    "from sklearn.model_selection import GridSearchCV\n",
    "from sklearn.neural_network import MLPRegressor\n",
    "from sklearn.preprocessing import OneHotEncoder\n",
    "from sklearn.metrics import mean_squared_error\n",
    "from multiprocessing import Pool\n",
    "from bs4 import BeautifulSoup\n",
    "import lightgbm as lgb\n",
    "import pandas as pd\n",
    "import numpy as np\n",
    "import threading\n",
    "import requests\n",
    "import time\n",
    "import re"
   ]
  },
  {
   "cell_type": "markdown",
   "id": "063d3f23",
   "metadata": {
    "papermill": {
     "duration": 0.005602,
     "end_time": "2024-04-24T14:19:28.807682",
     "exception": false,
     "start_time": "2024-04-24T14:19:28.802080",
     "status": "completed"
    },
    "tags": []
   },
   "source": [
    "This next section will implement Sporza's point system for the Giro."
   ]
  },
  {
   "cell_type": "code",
   "execution_count": 2,
   "id": "27573e11",
   "metadata": {
    "execution": {
     "iopub.execute_input": "2024-04-24T14:19:28.822459Z",
     "iopub.status.busy": "2024-04-24T14:19:28.821976Z",
     "iopub.status.idle": "2024-04-24T14:19:28.833236Z",
     "shell.execute_reply": "2024-04-24T14:19:28.831944Z"
    },
    "papermill": {
     "duration": 0.021765,
     "end_time": "2024-04-24T14:19:28.836086",
     "exception": false,
     "start_time": "2024-04-24T14:19:28.814321",
     "status": "completed"
    },
    "tags": []
   },
   "outputs": [],
   "source": [
    "stage_points = [100, 80, 65, 55, 45, 35, 30, 25, 20, 17, 15, 14, 13, 12, 11, 10, 9, 8, 7, 6, 5, 4, 3, 2, 1]\n",
    "km_points = [25, 20, 15, 10, 5] # Main main gets a bonus if he finishes in the top 5\n",
    "teammate_bonus = 5 # Goes to all teammates of the winner\n",
    "combative_bonus = 10\n",
    "pink_bonus = 20\n",
    "purple_bonus, blue_bonus = 10, 10\n",
    "white_bonus = 5\n",
    "\n",
    "# Final standings bonusses\n",
    "final_pink_bonus = [200, 150, 120, 110, 100, 90, 80, 70, 60, 50, 47, 45, 42, 40, 37, 35, 32, 30, 27,\n",
    "                   25, 24, 23, 22, 21, 20, 19, 18, 17, 15, 12] # All other riders get 4 points\n",
    "final_purple_bonus, final_blue_bonus = [80, 60, 40, 30, 25, 20, 15, 10, 5, 2], [80, 60, 40, 30, 25, 20, 15, 10, 5, 2]\n",
    "final_white_bonus = [60, 48, 32, 24, 20, 16, 12, 8, 3, 1]"
   ]
  },
  {
   "cell_type": "markdown",
   "id": "423c673f",
   "metadata": {
    "papermill": {
     "duration": 0.006937,
     "end_time": "2024-04-24T14:19:28.849167",
     "exception": false,
     "start_time": "2024-04-24T14:19:28.842230",
     "status": "completed"
    },
    "tags": []
   },
   "source": [
    "The giro results will be presented as a 21 x number of riders table. A second table will be provided with the kopman, combative, pink, purple, blue and white for each race."
   ]
  },
  {
   "cell_type": "code",
   "execution_count": 3,
   "id": "8f241752",
   "metadata": {
    "execution": {
     "iopub.execute_input": "2024-04-24T14:19:28.863349Z",
     "iopub.status.busy": "2024-04-24T14:19:28.862780Z",
     "iopub.status.idle": "2024-04-24T14:19:28.869723Z",
     "shell.execute_reply": "2024-04-24T14:19:28.868272Z"
    },
    "papermill": {
     "duration": 0.017676,
     "end_time": "2024-04-24T14:19:28.872529",
     "exception": false,
     "start_time": "2024-04-24T14:19:28.854853",
     "status": "completed"
    },
    "tags": []
   },
   "outputs": [],
   "source": [
    "def calc_points_per_rider(giro_riders, giro_results):\n",
    "    points_per_rider = {}\n",
    "    for name in giro_riders:\n",
    "        points_per_rider[name] = 0"
   ]
  },
  {
   "cell_type": "code",
   "execution_count": 4,
   "id": "9423d3d7",
   "metadata": {
    "execution": {
     "iopub.execute_input": "2024-04-24T14:19:28.885933Z",
     "iopub.status.busy": "2024-04-24T14:19:28.885483Z",
     "iopub.status.idle": "2024-04-24T14:19:28.893269Z",
     "shell.execute_reply": "2024-04-24T14:19:28.891808Z"
    },
    "papermill": {
     "duration": 0.017512,
     "end_time": "2024-04-24T14:19:28.895939",
     "exception": false,
     "start_time": "2024-04-24T14:19:28.878427",
     "status": "completed"
    },
    "tags": []
   },
   "outputs": [],
   "source": [
    "sporza_races = [\n",
    "    \"omloop-het-nieuwsblad\",\n",
    "    \"kuurne-brussel-kuurne\",\n",
    "    \"gp-samyn\",\n",
    "    \"strade-bianche\",\n",
    "    \"nokere-koers\",\n",
    "    \"bredene-koksijde-classic\",\n",
    "    \"milano-sanremo\",\n",
    "    \"oxyclean-classic-brugge-de-panne\",\n",
    "    \"e3-harelbeke\",\n",
    "    \"gent-wevelgem\",\n",
    "    \"dwars-door-vlaanderen\",\n",
    "    \"ronde-van-vlaanderen\",\n",
    "    \"scheldeprijs\",\n",
    "    \"paris-roubaix\",\n",
    "    \"brabantse-pijl\",\n",
    "    \"amstel-gold-race\",\n",
    "    \"la-fleche-wallone\",\n",
    "    \"liege-bastogne-liege\"\n",
    "]"
   ]
  },
  {
   "cell_type": "code",
   "execution_count": 5,
   "id": "9d2af3ca",
   "metadata": {
    "execution": {
     "iopub.execute_input": "2024-04-24T14:19:28.909411Z",
     "iopub.status.busy": "2024-04-24T14:19:28.908987Z",
     "iopub.status.idle": "2024-04-24T14:19:30.326077Z",
     "shell.execute_reply": "2024-04-24T14:19:30.324755Z"
    },
    "papermill": {
     "duration": 1.426765,
     "end_time": "2024-04-24T14:19:30.328796",
     "exception": false,
     "start_time": "2024-04-24T14:19:28.902031",
     "status": "completed"
    },
    "tags": []
   },
   "outputs": [],
   "source": [
    "rider_info = {}\n",
    "giro_link = \"https://www.procyclingstats.com/race/giro-d-italia/2024/startlist/startlist-quality\"\n",
    "response = requests.get(giro_link)\n",
    "soup = BeautifulSoup(response.content, \"html.parser\")\n",
    "ranking_table = soup.find(\"table\", class_=\"basic\")\n",
    "for row in ranking_table.find_all(\"tr\")[1:]:\n",
    "    row_data = [td.get_text() for td in row.find_all('td')]\n",
    "    PCS_ranking = row_data[2]\n",
    "    points = row_data[3]\n",
    "    rider_link = str(row.find(\"a\", href=True))\n",
    "    match = re.search(r'rider/(.+?)\">', rider_link)\n",
    "    if match: rider_name = match.group(1)\n",
    "    rider_info[rider_name] = {\"PCS_ranking\": PCS_ranking,\n",
    "                              \"points\": points}"
   ]
  },
  {
   "cell_type": "code",
   "execution_count": 6,
   "id": "39a50bf6",
   "metadata": {
    "execution": {
     "iopub.execute_input": "2024-04-24T14:19:30.342535Z",
     "iopub.status.busy": "2024-04-24T14:19:30.341436Z",
     "iopub.status.idle": "2024-04-24T14:19:30.354249Z",
     "shell.execute_reply": "2024-04-24T14:19:30.353310Z"
    },
    "papermill": {
     "duration": 0.02266,
     "end_time": "2024-04-24T14:19:30.357070",
     "exception": false,
     "start_time": "2024-04-24T14:19:30.334410",
     "status": "completed"
    },
    "tags": []
   },
   "outputs": [],
   "source": [
    "def get_riders_teams_PCSpoints_threaded(n_riders, rider_data):\n",
    "    # Defines the functionality to add information for one rider\n",
    "    def get_riders_teams_PCSpoints_single(url):\n",
    "        response = requests.get(url)\n",
    "        soup = BeautifulSoup(response.content, \"html.parser\")\n",
    "        ranking_table = soup.find(\"table\", class_=\"basic\")\n",
    "        for row in ranking_table.find_all(\"tr\")[1:]:\n",
    "            links = row.find_all(\"a\", href=True)\n",
    "            rider = links[0].get(\"href\").split(\"/\")[-1]\n",
    "            team = links[1].get(\"href\").split(\"/\")[-1]\n",
    "            points = links[2].text        \n",
    "            rider_data[rider] = {\"Team\": team, \"PCSpoints\": points}\n",
    "            \n",
    "    # Get all the url and multithread the previously defined function\n",
    "    rider_urls = []\n",
    "    for i in range (n_riders//100):\n",
    "        PCS_ranking_url = f\"\"\"https://www.procyclingstats.com/rankings.php?\n",
    "                          nation=&age=&zage=&page=smallerorequal&team=&offset={100*i}\n",
    "                          &teamlevel=&filter=Filter\"\"\"\n",
    "        rider_urls.append(PCS_ranking_url)\n",
    "    threads = []\n",
    "    for url in rider_urls:\n",
    "        thread = threading.Thread(target=get_riders_teams_PCSpoints_single, args=(url,))\n",
    "        threads.append(thread)\n",
    "        thread.start()\n",
    "    for thread in threads:\n",
    "        thread.join()"
   ]
  },
  {
   "cell_type": "markdown",
   "id": "98c9eb5a",
   "metadata": {
    "papermill": {
     "duration": 0.005238,
     "end_time": "2024-04-24T14:19:30.367808",
     "exception": false,
     "start_time": "2024-04-24T14:19:30.362570",
     "status": "completed"
    },
    "tags": []
   },
   "source": [
    "Let's use the rider identifiers to retrieve their age, weight, and nationality. Since the same function has to be run for each rider, multithreading will speed it up a lot."
   ]
  },
  {
   "cell_type": "code",
   "execution_count": 7,
   "id": "c3999a1c",
   "metadata": {
    "execution": {
     "iopub.execute_input": "2024-04-24T14:19:30.380401Z",
     "iopub.status.busy": "2024-04-24T14:19:30.379992Z",
     "iopub.status.idle": "2024-04-24T14:19:30.392423Z",
     "shell.execute_reply": "2024-04-24T14:19:30.391082Z"
    },
    "papermill": {
     "duration": 0.021901,
     "end_time": "2024-04-24T14:19:30.395147",
     "exception": false,
     "start_time": "2024-04-24T14:19:30.373246",
     "status": "completed"
    },
    "tags": []
   },
   "outputs": [],
   "source": [
    "def get_age_weight_threaded(rider_data):\n",
    "    # Defines the functionality to add information for one rider\n",
    "    def get_age_weight_single(rider):\n",
    "        rider_profile_url = f\"https://www.procyclingstats.com/rider/{rider}\"\n",
    "        response = requests.get(rider_profile_url)\n",
    "        soup = BeautifulSoup(response.content, \"html.parser\")\n",
    "        info = soup.find(\"div\", class_ =\"rdr-info-cont\")\n",
    "        nationality = info.find('a').text\n",
    "        fields = info.find_all(\"b\")\n",
    "        try:\n",
    "            age = re.search(r'\\((.*?)\\)', info.text).group(1)\n",
    "        except(AttributeError):\n",
    "            age = 27\n",
    "        weight = 0\n",
    "        height = 0\n",
    "        for field in fields:\n",
    "            label = field.get_text(strip=True)\n",
    "            if label == \"Weight:\":\n",
    "                weight = field.next_sibling.strip()\n",
    "            if label == \"Height:\":\n",
    "                height = field.next_sibling.strip()\n",
    "        rider_data[rider].update({\"Age\": age, \"Weight\": weight,\n",
    "                                  \"Height\": height, \"Nationality\": nationality})\n",
    "\n",
    "    # Get all the url and multithread the previously defined function\n",
    "    riders = list(rider_data.keys())\n",
    "    threads = []\n",
    "    for rider in riders:\n",
    "        thread = threading.Thread(target=get_age_weight_single, args=(rider,))\n",
    "        threads.append(thread)\n",
    "        thread.start()\n",
    "    for thread in threads:\n",
    "        thread.join()"
   ]
  },
  {
   "cell_type": "code",
   "execution_count": 8,
   "id": "7f7435b8",
   "metadata": {
    "execution": {
     "iopub.execute_input": "2024-04-24T14:19:30.409862Z",
     "iopub.status.busy": "2024-04-24T14:19:30.409474Z",
     "iopub.status.idle": "2024-04-24T14:19:30.427789Z",
     "shell.execute_reply": "2024-04-24T14:19:30.426519Z"
    },
    "papermill": {
     "duration": 0.028315,
     "end_time": "2024-04-24T14:19:30.430230",
     "exception": false,
     "start_time": "2024-04-24T14:19:30.401915",
     "status": "completed"
    },
    "tags": []
   },
   "outputs": [],
   "source": [
    "def get_sporza_results_threaded(years, rider_data, DN_values):\n",
    "    # Defines the functionality to add information for one race\n",
    "    def get_sporza_results_single(race_url):\n",
    "        nonlocal count # Used to get a consistent counter across all threads\n",
    "        try:\n",
    "            response = requests.get(race_url)\n",
    "            with count_lock:\n",
    "                count += 1\n",
    "        except:\n",
    "            print(f\"Page {race_url} didn't respond.\")\n",
    "        soup = BeautifulSoup(response.content, \"html.parser\")\n",
    "        for row in soup.find(\"tbody\").find_all(\"tr\"):\n",
    "            rider = row.find(\"input\", class_=\"gotoH2H\").get(\"data-seo\")\n",
    "            if rider in rider_data.keys():\n",
    "                fields = row.find_all(\"td\")\n",
    "                placement = fields[0].get_text(strip=True)\n",
    "                placement = placement_mapping.get(placement, placement)\n",
    "                UCI_points = fields[7].get_text(strip=True)\n",
    "                ptn = fields[8].get_text(strip=True)\n",
    "                race_name = \"/\".join(race_url.split(\"/\")[4:6])\n",
    "                rider_data[rider][race_name] = int(placement)\n",
    "                if UCI_points != \"\":\n",
    "                    if \"UCI_points\" in rider_data.get(rider, {}):\n",
    "                        rider_data[rider][\"UCI_points\"] += int(UCI_points)\n",
    "                    else:\n",
    "                         rider_data[rider][f\"UCI_points\"] = int(UCI_points)\n",
    "                if ptn != \"\":\n",
    "                    year = race_url[-11:-7]\n",
    "                    if f\"ptn/{year}\" in rider_data.get(rider, {}):\n",
    "                        rider_data[rider][f\"ptn/{year}\"] += int(ptn)\n",
    "                    else:\n",
    "                         rider_data[rider][f\"ptn/{year}\"] = int(ptn)\n",
    "                            \n",
    "    # Get all the url and multithread the previously defined function\n",
    "    placement_mapping = {\"DNS\": DN_values[0], \"DNF\": DN_values[1], \"OTL\": DN_values[1], \"DSQ\": DN_values[2]}\n",
    "    count_lock = threading.Lock()\n",
    "    race_urls, count = [], 0\n",
    "    for race in sporza_races:\n",
    "        for year in years:\n",
    "            race_name = f\"{race}/{year}\"\n",
    "            race_urls.append(f\"https://www.procyclingstats.com/race/{race_name}/result\")\n",
    "    threads = []\n",
    "    for race_url in race_urls:\n",
    "        thread = threading.Thread(target=get_sporza_results_single, args=(race_url, ))\n",
    "        threads.append(thread)\n",
    "        thread.start()\n",
    "    for thread in threads:\n",
    "        thread.join()\n",
    "    print(f\"\"\"Successfully retrieved\n",
    "              the results of {count}/{len(sporza_races)*len(years)} races.\"\"\")"
   ]
  },
  {
   "cell_type": "markdown",
   "id": "61226ea7",
   "metadata": {
    "papermill": {
     "duration": 0.00522,
     "end_time": "2024-04-24T14:19:30.441362",
     "exception": false,
     "start_time": "2024-04-24T14:19:30.436142",
     "status": "completed"
    },
    "tags": []
   },
   "source": [
    "Preprocessing of the retrieved data includes:\n",
    "* Creating a dataframe of the retrieved data\n",
    "* Resetting the index so the rider's names are in a separate column\n",
    "* Renaming some columns\n",
    "* Converting the team name using a one hot encoding\n",
    "* Converting PCSpoints and Age from string to int and cut\n",
    "* Converting the Weight and Heights strings to int and float respectively as well. If a rider has not gained points in a certain season, let's set it to zero instead of NaN.\n",
    "* Setting missing Weight and Height values to the respective modal values\n",
    "* Converting all race results to integers. x for DNS, y for DNF/OTL and z for DSQ."
   ]
  },
  {
   "cell_type": "code",
   "execution_count": 9,
   "id": "472923ad",
   "metadata": {
    "execution": {
     "iopub.execute_input": "2024-04-24T14:19:30.455496Z",
     "iopub.status.busy": "2024-04-24T14:19:30.454847Z",
     "iopub.status.idle": "2024-04-24T14:19:30.470799Z",
     "shell.execute_reply": "2024-04-24T14:19:30.469471Z"
    },
    "papermill": {
     "duration": 0.026352,
     "end_time": "2024-04-24T14:19:30.473809",
     "exception": false,
     "start_time": "2024-04-24T14:19:30.447457",
     "status": "completed"
    },
    "tags": []
   },
   "outputs": [],
   "source": [
    "def preprocess_rider_data(years, rider_data):\n",
    "    pd.set_option('future.no_silent_downcasting', True) # Suggested by a warning\n",
    "    # Make a dataframe and change the rider names from being the index to a separate column\n",
    "    rider_data = pd.DataFrame(rider_data).T\n",
    "    rider_data.reset_index(inplace=True)\n",
    "    rider_data.rename(columns={\"index\": \"Name\", \"Weight:\": \"Weight\", \"Height:\": \"Height\"}, inplace=True)\n",
    "    # One hot encoding of the team names\n",
    "    rider_data = pd.get_dummies(rider_data, columns=[\"Team\"])\n",
    "    rider_data[\"PCSpoints\"] = rider_data[\"PCSpoints\"].astype(int)\n",
    "    rider_data[\"Age\"] = rider_data[\"Age\"].fillna(27).astype(int)\n",
    "    # Transforming Weight to int + filling missing values witht the modal weight\n",
    "    rider_data[\"Weight\"] = rider_data[\"Weight\"].apply(\n",
    "        lambda x: int(x[:2]) if isinstance(x, str) else x)\n",
    "    rider_data[\"Weight\"] = rider_data[\"Weight\"].fillna(rider_data[\"Weight\"].mode()[0])\n",
    "    rider_data[\"Weight\"] = rider_data[\"Weight\"].infer_objects(copy=False)\n",
    "    # Transforming Weight to float + filling missing values witht the modal height\n",
    "    rider_data[\"Height\"] = rider_data[\"Height\"].apply(\n",
    "        lambda x: float(x.split()[0]) if isinstance(x, str) else x)\n",
    "    rider_data[\"Height\"] = rider_data[\"Height\"].fillna(rider_data[\"Height\"].mode()[0])\n",
    "    rider_data[\"Height\"] = rider_data[\"Height\"].infer_objects(copy=False)\n",
    "    # Change rider points to 0 if they have None\n",
    "    for year in years:\n",
    "        rider_data[f\"ptn/{year}\"] = rider_data[f\"ptn/{year}\"].fillna(0).infer_objects(copy=False)\n",
    "    rider_data['UCI_points'] = rider_data['UCI_points'].fillna(0).infer_objects(copy=False)\n",
    "    # Change placement to 100 if a rider didn't participate\n",
    "    rider_data = rider_data.fillna(100)\n",
    "    \n",
    "    # There is one rider with team = Team_ so let's drop that column\n",
    "    rider_data = rider_data.drop(\"Team_\", axis=1)\n",
    "    # That rider is Pinot and he retired so let's remove him too.\n",
    "    rider_data = rider_data[rider_data[\"Name\"] != \"thibaut-pinot\"]\n",
    "    return rider_data"
   ]
  },
  {
   "cell_type": "markdown",
   "id": "5d80420e",
   "metadata": {
    "execution": {
     "iopub.execute_input": "2024-03-05T18:06:32.2584Z",
     "iopub.status.busy": "2024-03-05T18:06:32.257271Z",
     "iopub.status.idle": "2024-03-05T18:07:06.312055Z",
     "shell.execute_reply": "2024-03-05T18:07:06.310947Z",
     "shell.execute_reply.started": "2024-03-05T18:06:32.258365Z"
    },
    "papermill": {
     "duration": 0.005233,
     "end_time": "2024-04-24T14:19:30.484688",
     "exception": false,
     "start_time": "2024-04-24T14:19:30.479455",
     "status": "completed"
    },
    "tags": []
   },
   "source": [
    "n_riders = 200\n",
    "DN_values = [100, 200, 300] # Placement if a rider DNS, DNF/OTL and DSQ respectively\n",
    "#years = [2018, 2019, 2021, 2022, 2023]\n",
    "years = [2022, 2023]\n",
    "rider_data = {}\n",
    "\n",
    "print(\"Retrieving rider names, teams and number of PCS points (multithreaded).\")\n",
    "start_time = time.time()\n",
    "get_riders_teams_PCSpoints_threaded(n_riders, rider_data)\n",
    "end_time = time.time()\n",
    "print(f\"Information retrieved in {end_time - start_time} seconds.\")\n",
    "print(\"----------------------------------------------------------\")\n",
    "\n",
    "print(\"Retrieving age and weight (multithreaded).\")\n",
    "start_time = time.time()\n",
    "get_age_weight_threaded(rider_data)\n",
    "end_time = time.time()\n",
    "print(f\"Information retrieved in {end_time - start_time} seconds.\")\n",
    "print(\"----------------------------------------------------------\")\n",
    "\n",
    "print(\"Retrieving race results (multithreaded).\")\n",
    "start_time = time.time()\n",
    "get_sporza_results_threaded(years, rider_data, DN_values)\n",
    "end_time = time.time()\n",
    "print(f\"Information retrieved in {end_time - start_time} seconds.\")\n",
    "print(\"----------------------------------------------------------\")\n",
    "\n",
    "print(\"Preprocessing data.\")\n",
    "start_time = time.time()\n",
    "rider_data = preprocess_rider_data(years, rider_data)\n",
    "end_time = time.time()\n",
    "print(f\"Data preprocessed in {end_time - start_time} seconds.\")\n",
    "print(\"----------------------------------------------------------\")"
   ]
  }
 ],
 "metadata": {
  "kaggle": {
   "accelerator": "none",
   "dataSources": [
    {
     "datasetId": 4460489,
     "sourceId": 7651309,
     "sourceType": "datasetVersion"
    }
   ],
   "dockerImageVersionId": 30646,
   "isGpuEnabled": false,
   "isInternetEnabled": true,
   "language": "python",
   "sourceType": "notebook"
  },
  "kernelspec": {
   "display_name": "Python 3",
   "language": "python",
   "name": "python3"
  },
  "language_info": {
   "codemirror_mode": {
    "name": "ipython",
    "version": 3
   },
   "file_extension": ".py",
   "mimetype": "text/x-python",
   "name": "python",
   "nbconvert_exporter": "python",
   "pygments_lexer": "ipython3",
   "version": "3.10.13"
  },
  "papermill": {
   "default_parameters": {},
   "duration": 11.761585,
   "end_time": "2024-04-24T14:19:31.412773",
   "environment_variables": {},
   "exception": null,
   "input_path": "__notebook__.ipynb",
   "output_path": "__notebook__.ipynb",
   "parameters": {},
   "start_time": "2024-04-24T14:19:19.651188",
   "version": "2.5.0"
  }
 },
 "nbformat": 4,
 "nbformat_minor": 5
}
